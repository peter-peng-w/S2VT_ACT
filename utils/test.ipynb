{
 "cells": [
  {
   "cell_type": "code",
   "execution_count": 4,
   "metadata": {},
   "outputs": [],
   "source": [
    "import json\n",
    "with open('../data/MSR-VTT/train_val_annotation/train_val_example.json') as f:\n",
    "    data = json.load(f)"
   ]
  },
  {
   "cell_type": "code",
   "execution_count": 7,
   "metadata": {},
   "outputs": [
    {
     "name": "stdout",
     "output_type": "stream",
     "text": [
      "15\n"
     ]
    }
   ],
   "source": [
    "print(len(data['videos']))"
   ]
  },
  {
   "cell_type": "code",
   "execution_count": 8,
   "metadata": {},
   "outputs": [
    {
     "name": "stdout",
     "output_type": "stream",
     "text": [
      "{'category': 9, 'url': 'https://www.youtube.com/watch?v=9lZi22qLlEo', 'video_id': 'video0', 'start time': 137.72, 'end time': 149.44, 'split': 'train', 'id': 0}\n",
      "{'category': 9, 'url': 'https://www.youtube.com/watch?v=QA7KVQq9vKA', 'video_id': 'video2', 'start time': 31.17, 'end time': 41.24, 'split': 'train', 'id': 2}\n"
     ]
    }
   ],
   "source": [
    "for videos_info in data['videos']:\n",
    "    if videos_info['category'] == 9:\n",
    "        print(videos_info)"
   ]
  },
  {
   "cell_type": "code",
   "execution_count": 9,
   "metadata": {},
   "outputs": [
    {
     "name": "stdout",
     "output_type": "stream",
     "text": [
      "{'videos': [], 'sentences': []}\n"
     ]
    }
   ],
   "source": [
    "train_data = {'videos':[], 'sentences':[]}\n",
    "print(train_data)"
   ]
  },
  {
   "cell_type": "code",
   "execution_count": 10,
   "metadata": {},
   "outputs": [
    {
     "name": "stdout",
     "output_type": "stream",
     "text": [
      "{'videos': [{'category': 9, 'url': 'https://www.youtube.com/watch?v=9lZi22qLlEo', 'video_id': 'video0', 'start time': 137.72, 'end time': 149.44, 'split': 'train', 'id': 0}, {'category': 9, 'url': 'https://www.youtube.com/watch?v=QA7KVQq9vKA', 'video_id': 'video2', 'start time': 31.17, 'end time': 41.24, 'split': 'train', 'id': 2}], 'sentences': []}\n"
     ]
    }
   ],
   "source": [
    "for videos_info in data['videos']:\n",
    "    if videos_info['category'] == 9:\n",
    "        train_data['videos'].append(videos_info)\n",
    "print(train_data)"
   ]
  },
  {
   "cell_type": "code",
   "execution_count": 13,
   "metadata": {},
   "outputs": [],
   "source": [
    "for sentences_info in data['sentences']:\n",
    "    if sentences_info['video_id'] == 'video2960':\n",
    "        train_data['sentences'].append(sentences_info)\n",
    "with open('data.json', 'w') as fp:\n",
    "    json.dump(train_data, fp, indent=4)"
   ]
  },
  {
   "cell_type": "markdown",
   "metadata": {},
   "source": [
    "## Load all the data info for train and validation set"
   ]
  },
  {
   "cell_type": "code",
   "execution_count": 14,
   "metadata": {},
   "outputs": [],
   "source": [
    "with open('../data/MSR-VTT/train_val_annotation/train_val_videodatainfo.json') as f:\n",
    "    data = json.load(f)"
   ]
  },
  {
   "cell_type": "markdown",
   "metadata": {},
   "source": [
    "## Extract a subset of the whole dataset\n",
    "Based on the category information, we are interested in the following categories:\n",
    "* people, category id: 1\n",
    "* gaming, category id: 2\n",
    "* sports/actions, category id: 3"
   ]
  },
  {
   "cell_type": "code",
   "execution_count": 16,
   "metadata": {},
   "outputs": [
    {
     "name": "stdout",
     "output_type": "stream",
     "text": [
      "7010\n",
      "140200\n"
     ]
    }
   ],
   "source": [
    "print(len(data['videos']))\n",
    "print(len(data['sentences']))"
   ]
  },
  {
   "cell_type": "code",
   "execution_count": 26,
   "metadata": {},
   "outputs": [
    {
     "name": "stdout",
     "output_type": "stream",
     "text": [
      "cnt_train: {'people': 157, 'gaming': 308, 'sports': 713}\n",
      "cnt_valid: {'people': 16, 'gaming': 24, 'sports': 71}\n"
     ]
    }
   ],
   "source": [
    "cnt_train = {'people':0, 'gaming':0, 'sports':0}\n",
    "cnt_valid = {'people':0, 'gaming':0, 'sports':0}\n",
    "for video_info in data['videos']:\n",
    "    if video_info['category'] == 1:\n",
    "        if video_info['split'] == 'train':\n",
    "            cnt_train['people'] += 1\n",
    "        elif video_info['split'] == 'validate':\n",
    "            cnt_valid['people'] += 1\n",
    "        else:\n",
    "            raise ValueError\n",
    "    elif video_info['category'] == 2:\n",
    "        if video_info['split'] == 'train':\n",
    "            cnt_train['gaming'] += 1\n",
    "        elif video_info['split'] == 'validate':\n",
    "            cnt_valid['gaming'] += 1\n",
    "        else:\n",
    "            raise ValueError\n",
    "    elif video_info['category'] == 3:\n",
    "        if video_info['split'] == 'train':\n",
    "            cnt_train['sports'] += 1\n",
    "        elif video_info['split'] == 'validate':\n",
    "            cnt_valid['sports'] += 1\n",
    "        else:\n",
    "            raise ValueError\n",
    "    else:\n",
    "        pass\n",
    "\n",
    "print(\"cnt_train: {}\".format(cnt_train))\n",
    "print(\"cnt_valid: {}\".format(cnt_valid))"
   ]
  },
  {
   "cell_type": "code",
   "execution_count": 28,
   "metadata": {},
   "outputs": [],
   "source": [
    "video_id2category = {}\n",
    "for video_info in data['videos']:\n",
    "    video_id2category[video_info['video_id']] = video_info['category']"
   ]
  },
  {
   "cell_type": "code",
   "execution_count": 29,
   "metadata": {},
   "outputs": [
    {
     "name": "stdout",
     "output_type": "stream",
     "text": [
      "{'A1': 'drink', 'A2': 'eat', 'A3': 'brush', 'A4': 'brush', 'A5': 'drop', 'A6': 'pick', 'A7': 'throw', 'A8': 'sit', 'A9': 'stand', 'A10': 'clap', 'A11': 'read', 'A12': 'write', 'A13': 'tear', 'A14': 'jacket', 'A15': 'jacket', 'A16': 'shoe', 'A17': 'shoe', 'A18': 'glasses', 'A19': 'glasses', 'A20': 'hat', 'A21': 'hat', 'A22': 'cheer', 'A23': 'wave', 'A24': 'kick', 'A25': 'reach', 'A26': 'hop', 'A27': 'jump', 'A28': 'phone', 'A29': 'play', 'A30': 'type', 'A31': 'point', 'A32': 'selfie', 'A33': 'time', 'A34': 'rub', 'A35': 'nod', 'A36': 'shake', 'A37': 'wipe', 'A38': 'salute', 'A39': 'palm', 'A40': 'cross', 'A41': 'cough', 'A42': 'stagger', 'A43': 'fall', 'A44': 'headache', 'A45': 'chest', 'A46': 'back', 'A47': 'neck', 'A48': 'vomit', 'A49': 'fan self', 'A50': 'punch', 'A51': 'kick', 'A52': 'push', 'A53': 'pat', 'A54': 'finger', 'A55': 'hug', 'A56': 'give', 'A57': 'pocket', 'A58': 'shake', 'A59': 'walk', 'A60': 'walk', 'A61': 'slap'}\n"
     ]
    }
   ],
   "source": [
    "action_set = {}\n",
    "with open('../data/actions_short.txt', 'rt') as f:\n",
    "    for line in f:\n",
    "        if len(line) > 2:\n",
    "            line_data = line.strip().split(': ')\n",
    "            action_set[line_data[0]] = line_data[1]\n",
    "f.close()\n",
    "print(action_set)"
   ]
  },
  {
   "cell_type": "code",
   "execution_count": 38,
   "metadata": {},
   "outputs": [
    {
     "name": "stdout",
     "output_type": "stream",
     "text": [
      "{'A1': 0, 'A2': 0, 'A3': 0, 'A4': 0, 'A5': 0, 'A6': 0, 'A7': 0, 'A8': 0, 'A9': 0, 'A10': 0, 'A11': 0, 'A12': 0, 'A13': 0, 'A14': 0, 'A15': 0, 'A16': 0, 'A17': 0, 'A18': 0, 'A19': 0, 'A20': 0, 'A21': 0, 'A22': 0, 'A23': 0, 'A24': 0, 'A25': 0, 'A26': 0, 'A27': 0, 'A28': 0, 'A29': 0, 'A30': 0, 'A31': 0, 'A32': 0, 'A33': 0, 'A34': 0, 'A35': 0, 'A36': 0, 'A37': 0, 'A38': 0, 'A39': 0, 'A40': 0, 'A41': 0, 'A42': 0, 'A43': 0, 'A44': 0, 'A45': 0, 'A46': 0, 'A47': 0, 'A48': 0, 'A49': 0, 'A50': 0, 'A51': 0, 'A52': 0, 'A53': 0, 'A54': 0, 'A55': 0, 'A56': 0, 'A57': 0, 'A58': 0, 'A59': 0, 'A60': 0, 'A61': 0}\n",
      "{'A1': 0, 'A2': 0, 'A3': 0, 'A4': 0, 'A5': 0, 'A6': 0, 'A7': 0, 'A8': 0, 'A9': 0, 'A10': 0, 'A11': 0, 'A12': 0, 'A13': 0, 'A14': 0, 'A15': 0, 'A16': 0, 'A17': 0, 'A18': 0, 'A19': 0, 'A20': 0, 'A21': 0, 'A22': 0, 'A23': 0, 'A24': 0, 'A25': 0, 'A26': 0, 'A27': 0, 'A28': 0, 'A29': 0, 'A30': 0, 'A31': 0, 'A32': 0, 'A33': 0, 'A34': 0, 'A35': 0, 'A36': 0, 'A37': 0, 'A38': 0, 'A39': 0, 'A40': 0, 'A41': 0, 'A42': 0, 'A43': 0, 'A44': 0, 'A45': 0, 'A46': 0, 'A47': 0, 'A48': 0, 'A49': 0, 'A50': 0, 'A51': 0, 'A52': 0, 'A53': 0, 'A54': 0, 'A55': 0, 'A56': 0, 'A57': 0, 'A58': 0, 'A59': 0, 'A60': 0, 'A61': 0}\n",
      "{'A1': 0, 'A2': 0, 'A3': 0, 'A4': 0, 'A5': 0, 'A6': 0, 'A7': 0, 'A8': 0, 'A9': 0, 'A10': 0, 'A11': 0, 'A12': 0, 'A13': 0, 'A14': 0, 'A15': 0, 'A16': 0, 'A17': 0, 'A18': 0, 'A19': 0, 'A20': 0, 'A21': 0, 'A22': 0, 'A23': 0, 'A24': 0, 'A25': 0, 'A26': 0, 'A27': 0, 'A28': 0, 'A29': 0, 'A30': 0, 'A31': 0, 'A32': 0, 'A33': 0, 'A34': 0, 'A35': 0, 'A36': 0, 'A37': 0, 'A38': 0, 'A39': 0, 'A40': 0, 'A41': 0, 'A42': 0, 'A43': 0, 'A44': 0, 'A45': 0, 'A46': 0, 'A47': 0, 'A48': 0, 'A49': 0, 'A50': 0, 'A51': 0, 'A52': 0, 'A53': 0, 'A54': 0, 'A55': 0, 'A56': 0, 'A57': 0, 'A58': 0, 'A59': 0, 'A60': 0, 'A61': 0}\n",
      "{'A1': 0, 'A2': 0, 'A3': 0, 'A4': 0, 'A5': 0, 'A6': 0, 'A7': 0, 'A8': 0, 'A9': 0, 'A10': 0, 'A11': 0, 'A12': 0, 'A13': 0, 'A14': 0, 'A15': 0, 'A16': 0, 'A17': 0, 'A18': 0, 'A19': 0, 'A20': 0, 'A21': 0, 'A22': 0, 'A23': 0, 'A24': 0, 'A25': 0, 'A26': 0, 'A27': 0, 'A28': 0, 'A29': 0, 'A30': 0, 'A31': 0, 'A32': 0, 'A33': 0, 'A34': 0, 'A35': 0, 'A36': 0, 'A37': 0, 'A38': 0, 'A39': 0, 'A40': 0, 'A41': 0, 'A42': 0, 'A43': 0, 'A44': 0, 'A45': 0, 'A46': 0, 'A47': 0, 'A48': 0, 'A49': 0, 'A50': 0, 'A51': 0, 'A52': 0, 'A53': 0, 'A54': 0, 'A55': 0, 'A56': 0, 'A57': 0, 'A58': 0, 'A59': 0, 'A60': 0, 'A61': 0}\n"
     ]
    }
   ],
   "source": [
    "cnt_actions = {}\n",
    "cnt_category_1_actions = {}\n",
    "cnt_category_2_actions = {}\n",
    "cnt_category_3_actions = {}\n",
    "for key in action_set.keys():\n",
    "    cnt_actions[key] = 0\n",
    "    cnt_category_1_actions[key] = 0\n",
    "    cnt_category_2_actions[key] = 0\n",
    "    cnt_category_3_actions[key] = 0\n",
    "print(cnt_actions)\n",
    "print(cnt_category_1_actions)\n",
    "print(cnt_category_2_actions)\n",
    "print(cnt_category_3_actions)"
   ]
  },
  {
   "cell_type": "code",
   "execution_count": 44,
   "metadata": {},
   "outputs": [
    {
     "name": "stdout",
     "output_type": "stream",
     "text": [
      "{'A1': 1494, 'A2': 9214, 'A3': 668, 'A4': 668, 'A5': 390, 'A6': 592, 'A7': 1178, 'A8': 8408, 'A9': 5414, 'A10': 406, 'A11': 2206, 'A12': 116, 'A13': 50, 'A14': 1544, 'A15': 1544, 'A16': 284, 'A17': 284, 'A18': 2148, 'A19': 2148, 'A20': 7298, 'A21': 7298, 'A22': 876, 'A23': 740, 'A24': 504, 'A25': 236, 'A26': 1664, 'A27': 2606, 'A28': 3902, 'A29': 37338, 'A30': 996, 'A31': 1228, 'A32': 522, 'A33': 1494, 'A34': 692, 'A35': 48, 'A36': 178, 'A37': 74, 'A38': 2, 'A39': 144, 'A40': 1242, 'A41': 14, 'A42': 8, 'A43': 1740, 'A44': 0, 'A45': 302, 'A46': 5142, 'A47': 456, 'A48': 36, 'A49': 0, 'A50': 214, 'A51': 504, 'A52': 490, 'A53': 1204, 'A54': 456, 'A55': 884, 'A56': 1786, 'A57': 78, 'A58': 178, 'A59': 8144, 'A60': 8144, 'A61': 66}\n",
      "{0: 387, 1: 294, 2: 303, 3: 1117, 4: 446, 5: 414, 6: 288, 7: 971, 8: 201, 9: 395, 10: 349, 11: 317, 12: 395, 13: 563, 14: 384, 15: 132, 16: 498, 17: 144, 18: 672, 19: 153}\n",
      "{'A1': 37, 'A2': 106, 'A3': 0, 'A4': 0, 'A5': 0, 'A6': 2, 'A7': 1, 'A8': 128, 'A9': 71, 'A10': 25, 'A11': 9, 'A12': 0, 'A13': 0, 'A14': 48, 'A15': 48, 'A16': 2, 'A17': 2, 'A18': 68, 'A19': 68, 'A20': 83, 'A21': 83, 'A22': 20, 'A23': 0, 'A24': 5, 'A25': 1, 'A26': 59, 'A27': 8, 'A28': 160, 'A29': 449, 'A30': 6, 'A31': 11, 'A32': 248, 'A33': 39, 'A34': 1, 'A35': 0, 'A36': 2, 'A37': 0, 'A38': 0, 'A39': 0, 'A40': 4, 'A41': 0, 'A42': 0, 'A43': 1, 'A44': 0, 'A45': 0, 'A46': 72, 'A47': 1, 'A48': 0, 'A49': 0, 'A50': 0, 'A51': 5, 'A52': 1, 'A53': 8, 'A54': 7, 'A55': 27, 'A56': 15, 'A57': 0, 'A58': 2, 'A59': 55, 'A60': 55, 'A61': 0}\n",
      "{'A1': 1, 'A2': 128, 'A3': 8, 'A4': 8, 'A5': 3, 'A6': 42, 'A7': 23, 'A8': 60, 'A9': 30, 'A10': 0, 'A11': 29, 'A12': 1, 'A13': 0, 'A14': 0, 'A15': 0, 'A16': 0, 'A17': 0, 'A18': 0, 'A19': 0, 'A20': 109, 'A21': 109, 'A22': 11, 'A23': 1, 'A24': 2, 'A25': 6, 'A26': 5, 'A27': 85, 'A28': 77, 'A29': 2917, 'A30': 30, 'A31': 34, 'A32': 1, 'A33': 39, 'A34': 0, 'A35': 1, 'A36': 3, 'A37': 0, 'A38': 0, 'A39': 3, 'A40': 12, 'A41': 0, 'A42': 0, 'A43': 54, 'A44': 0, 'A45': 16, 'A46': 58, 'A47': 0, 'A48': 0, 'A49': 0, 'A50': 10, 'A51': 2, 'A52': 3, 'A53': 61, 'A54': 2, 'A55': 9, 'A56': 29, 'A57': 0, 'A58': 3, 'A59': 188, 'A60': 188, 'A61': 1}\n",
      "{'A1': 17, 'A2': 177, 'A3': 0, 'A4': 0, 'A5': 23, 'A6': 22, 'A7': 263, 'A8': 237, 'A9': 288, 'A10': 40, 'A11': 111, 'A12': 0, 'A13': 1, 'A14': 43, 'A15': 43, 'A16': 19, 'A17': 19, 'A18': 30, 'A19': 30, 'A20': 261, 'A21': 261, 'A22': 167, 'A23': 210, 'A24': 132, 'A25': 22, 'A26': 94, 'A27': 433, 'A28': 129, 'A29': 6005, 'A30': 21, 'A31': 201, 'A32': 6, 'A33': 64, 'A34': 14, 'A35': 0, 'A36': 24, 'A37': 1, 'A38': 0, 'A39': 6, 'A40': 150, 'A41': 0, 'A42': 0, 'A43': 203, 'A44': 0, 'A45': 14, 'A46': 491, 'A47': 11, 'A48': 0, 'A49': 0, 'A50': 52, 'A51': 132, 'A52': 38, 'A53': 45, 'A54': 5, 'A55': 86, 'A56': 72, 'A57': 0, 'A58': 24, 'A59': 250, 'A60': 250, 'A61': 6}\n"
     ]
    }
   ],
   "source": [
    "positive_videos = set()\n",
    "cnt_category = {0:0,1:0,2:0,3:0,4:0,5:0,6:0,7:0,8:0,9:0,10:0,11:0,12:0,13:0,14:0,15:0,16:0,17:0,18:0,19:0}\n",
    "for sentence_info in data['sentences']:\n",
    "    for key in action_set.keys():\n",
    "        if ' '+action_set[key]+' ' in sentence_info['caption']:\n",
    "            cnt_actions[key] += 1\n",
    "            positive_videos.add(sentence_info['video_id'])\n",
    "            cnt_category[video_id2category[sentence_info['video_id']]] += 1\n",
    "            if video_id2category[sentence_info['video_id']] == 1:\n",
    "                cnt_category_1_actions[key] += 1\n",
    "            elif video_id2category[sentence_info['video_id']] == 2:\n",
    "                cnt_category_2_actions[key] += 1\n",
    "            elif video_id2category[sentence_info['video_id']] == 3:\n",
    "                cnt_category_3_actions[key] += 1\n",
    "            else:\n",
    "                pass\n",
    "\n",
    "print(cnt_actions)\n",
    "print(cnt_category)\n",
    "print(cnt_category_1_actions)\n",
    "print(cnt_category_2_actions)\n",
    "print(cnt_category_3_actions)"
   ]
  },
  {
   "cell_type": "code",
   "execution_count": 41,
   "metadata": {},
   "outputs": [
    {
     "name": "stdout",
     "output_type": "stream",
     "text": [
      "6515\n"
     ]
    }
   ],
   "source": [
    "print(len(positive_videos))"
   ]
  },
  {
   "cell_type": "code",
   "execution_count": 42,
   "metadata": {},
   "outputs": [
    {
     "name": "stdout",
     "output_type": "stream",
     "text": [
      "{'A1': 35, 'A2': 391, 'A3': 8, 'A4': 8, 'A5': 22, 'A6': 40, 'A7': 241, 'A8': 369, 'A9': 319, 'A10': 53, 'A11': 137, 'A12': 1, 'A13': 1, 'A14': 31, 'A15': 31, 'A16': 17, 'A17': 17, 'A18': 54, 'A19': 54, 'A20': 395, 'A21': 395, 'A22': 160, 'A23': 133, 'A24': 95, 'A25': 17, 'A26': 110, 'A27': 358, 'A28': 240, 'A29': 8045, 'A30': 27, 'A31': 160, 'A32': 119, 'A33': 90, 'A34': 15, 'A35': 1, 'A36': 15, 'A37': 1, 'A38': 0, 'A39': 5, 'A40': 142, 'A41': 0, 'A42': 0, 'A43': 198, 'A44': 0, 'A45': 18, 'A46': 377, 'A47': 6, 'A48': 0, 'A49': 0, 'A50': 56, 'A51': 95, 'A52': 28, 'A53': 114, 'A54': 10, 'A55': 102, 'A56': 92, 'A57': 0, 'A58': 15, 'A59': 395, 'A60': 395, 'A61': 7}\n"
     ]
    }
   ],
   "source": [
    "cnt_category_123_actions = {}\n",
    "for key in action_set.keys():\n",
    "    cnt_category_123_actions[key] = cnt_category_1_actions[key] + cnt_category_2_actions[key] + cnt_category_3_actions[key]\n",
    "print(cnt_category_123_actions)"
   ]
  },
  {
   "cell_type": "markdown",
   "metadata": {},
   "source": [
    "## Build a Lite subset of MSR-VTT10k for local testing"
   ]
  },
  {
   "cell_type": "code",
   "execution_count": 4,
   "metadata": {},
   "outputs": [
    {
     "name": "stdout",
     "output_type": "stream",
     "text": [
      "Finished Loading all the info...\n",
      "Finished selecting video info...\n",
      "Finished selecting caption info...\n"
     ]
    }
   ],
   "source": [
    "import json\n",
    "# Load the data\n",
    "with open('../data/MSR-VTT/train_val_annotation/train_val_videodatainfo.json') as f:\n",
    "    data = json.load(f)\n",
    "\n",
    "print('Finished Loading all the info...')\n",
    "\n",
    "data_lite = {'videos':[], 'sentences':[]}\n",
    "\n",
    "for videos_info in data['videos']:\n",
    "    if int(videos_info['id']) < 100:\n",
    "        if int(videos_info['id']) >= 80:\n",
    "            videos_info['split'] = \"test\"\n",
    "        elif int(videos_info['id']) >= 70:\n",
    "            videos_info['split'] = \"validate\"\n",
    "        data_lite['videos'].append(videos_info)\n",
    "\n",
    "print('Finished selecting video info...')\n",
    "\n",
    "for sentences_info in data['sentences']:\n",
    "    if int(sentences_info['video_id'].strip().split('video')[1]) < 100:\n",
    "        data_lite['sentences'].append(sentences_info)\n",
    "\n",
    "print('Finished selecting caption info...')\n",
    "\n",
    "with open('data_lite.json', 'w') as fp:\n",
    "    json.dump(data_lite, fp, indent=4)"
   ]
  },
  {
   "cell_type": "markdown",
   "metadata": {},
   "source": [
    "## Build the Total set of MSR-VTT10k for online trainig"
   ]
  },
  {
   "cell_type": "code",
   "execution_count": null,
   "metadata": {},
   "outputs": [],
   "source": [
    "import json\n",
    "# Load the data\n",
    "with open('../data/MSR-VTT/Train_Val_annotation/train_val_videodatainfo.json') as f1:\n",
    "    data_train_val = json.load(f1)\n",
    "f1.close()\n",
    "\n",
    "with open('../data/MSR-VTT/Test_Annotation/test_videodatainfo.json') as f2:\n",
    "    data_test = json.load(f2)\n",
    "f2.close()\n",
    "\n",
    "print('Finished Loading all the info...')\n",
    "\n",
    "data_lite = {'videos':[], 'sentences':[]}\n",
    "\n",
    "for videos_info in data_train_val['videos']:\n",
    "    data_lite['videos'].append(videos_info)\n",
    "\n",
    "for videos_info in data_test['videos']:\n",
    "    data_lite['videos'].append(videos_info)\n",
    "\n",
    "print('Finished selecting video info...')\n",
    "\n",
    "for sentences_info in data_train_val['sentences']:\n",
    "    data_lite['sentences'].append(sentences_info)\n",
    "\n",
    "for sentences_info in data_test['sentences']:\n",
    "    data_lite['sentences'].append(sentences_info)\n",
    "\n",
    "print('Finished selecting caption info...')\n",
    "\n",
    "with open('data_lite.json', 'w') as fp:\n",
    "    json.dump(data_lite, fp, indent=4)"
   ]
  }
 ],
 "metadata": {
  "kernelspec": {
   "display_name": "Python 3",
   "name": "python3"
  },
  "language_info": {
   "codemirror_mode": {
    "name": "ipython",
    "version": 3
   },
   "file_extension": ".py",
   "mimetype": "text/x-python",
   "name": "python",
   "nbconvert_exporter": "python",
   "pygments_lexer": "ipython3",
   "version": "3.8.5-final"
  },
  "orig_nbformat": 2
 },
 "nbformat": 4,
 "nbformat_minor": 2
}