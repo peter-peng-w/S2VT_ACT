{
 "cells": [
  {
   "cell_type": "code",
   "execution_count": 4,
   "metadata": {},
   "outputs": [],
   "source": [
    "import json\n",
    "with open('../data/MSR-VTT/train_val_annotation/train_val_example.json') as f:\n",
    "    data = json.load(f)"
   ]
  },
  {
   "cell_type": "code",
   "execution_count": 7,
   "metadata": {},
   "outputs": [
    {
     "name": "stdout",
     "output_type": "stream",
     "text": [
      "15\n"
     ]
    }
   ],
   "source": [
    "print(len(data['videos']))"
   ]
  },
  {
   "cell_type": "code",
   "execution_count": 8,
   "metadata": {},
   "outputs": [
    {
     "name": "stdout",
     "output_type": "stream",
     "text": [
      "{'category': 9, 'url': 'https://www.youtube.com/watch?v=9lZi22qLlEo', 'video_id': 'video0', 'start time': 137.72, 'end time': 149.44, 'split': 'train', 'id': 0}\n",
      "{'category': 9, 'url': 'https://www.youtube.com/watch?v=QA7KVQq9vKA', 'video_id': 'video2', 'start time': 31.17, 'end time': 41.24, 'split': 'train', 'id': 2}\n"
     ]
    }
   ],
   "source": [
    "for videos_info in data['videos']:\n",
    "    if videos_info['category'] == 9:\n",
    "        print(videos_info)"
   ]
  },
  {
   "cell_type": "code",
   "execution_count": 9,
   "metadata": {},
   "outputs": [
    {
     "name": "stdout",
     "output_type": "stream",
     "text": [
      "{'videos': [], 'sentences': []}\n"
     ]
    }
   ],
   "source": [
    "train_data = {'videos':[], 'sentences':[]}\n",
    "print(train_data)"
   ]
  },
  {
   "cell_type": "code",
   "execution_count": 10,
   "metadata": {},
   "outputs": [
    {
     "name": "stdout",
     "output_type": "stream",
     "text": [
      "{'videos': [{'category': 9, 'url': 'https://www.youtube.com/watch?v=9lZi22qLlEo', 'video_id': 'video0', 'start time': 137.72, 'end time': 149.44, 'split': 'train', 'id': 0}, {'category': 9, 'url': 'https://www.youtube.com/watch?v=QA7KVQq9vKA', 'video_id': 'video2', 'start time': 31.17, 'end time': 41.24, 'split': 'train', 'id': 2}], 'sentences': []}\n"
     ]
    }
   ],
   "source": [
    "for videos_info in data['videos']:\n",
    "    if videos_info['category'] == 9:\n",
    "        train_data['videos'].append(videos_info)\n",
    "print(train_data)"
   ]
  },
  {
   "cell_type": "code",
   "execution_count": 13,
   "metadata": {},
   "outputs": [],
   "source": [
    "for sentences_info in data['sentences']:\n",
    "    if sentences_info['video_id'] == 'video2960':\n",
    "        train_data['sentences'].append(sentences_info)\n",
    "with open('data.json', 'w') as fp:\n",
    "    json.dump(train_data, fp, indent=4)"
   ]
  },
  {
   "cell_type": "markdown",
   "metadata": {},
   "source": [
    "## Load all the data info for train and validation set"
   ]
  },
  {
   "cell_type": "code",
   "execution_count": 14,
   "metadata": {},
   "outputs": [],
   "source": [
    "with open('../data/MSR-VTT/train_val_annotation/train_val_videodatainfo.json') as f:\n",
    "    data = json.load(f)"
   ]
  },
  {
   "cell_type": "markdown",
   "metadata": {},
   "source": [
    "## Extract a subset of the whole dataset\n",
    "Based on the category information, we are interested in the following categories:\n",
    "* people, category id: 1\n",
    "* gaming, category id: 2\n",
    "* sports/actions, category id: 3"
   ]
  },
  {
   "cell_type": "code",
   "execution_count": 16,
   "metadata": {},
   "outputs": [
    {
     "name": "stdout",
     "output_type": "stream",
     "text": [
      "7010\n",
      "140200\n"
     ]
    }
   ],
   "source": [
    "print(len(data['videos']))\n",
    "print(len(data['sentences']))"
   ]
  },
  {
   "cell_type": "code",
   "execution_count": 26,
   "metadata": {},
   "outputs": [
    {
     "name": "stdout",
     "output_type": "stream",
     "text": [
      "cnt_train: {'people': 157, 'gaming': 308, 'sports': 713}\n",
      "cnt_valid: {'people': 16, 'gaming': 24, 'sports': 71}\n"
     ]
    }
   ],
   "source": [
    "cnt_train = {'people':0, 'gaming':0, 'sports':0}\n",
    "cnt_valid = {'people':0, 'gaming':0, 'sports':0}\n",
    "for video_info in data['videos']:\n",
    "    if video_info['category'] == 1:\n",
    "        if video_info['split'] == 'train':\n",
    "            cnt_train['people'] += 1\n",
    "        elif video_info['split'] == 'validate':\n",
    "            cnt_valid['people'] += 1\n",
    "        else:\n",
    "            raise ValueError\n",
    "    elif video_info['category'] == 2:\n",
    "        if video_info['split'] == 'train':\n",
    "            cnt_train['gaming'] += 1\n",
    "        elif video_info['split'] == 'validate':\n",
    "            cnt_valid['gaming'] += 1\n",
    "        else:\n",
    "            raise ValueError\n",
    "    elif video_info['category'] == 3:\n",
    "        if video_info['split'] == 'train':\n",
    "            cnt_train['sports'] += 1\n",
    "        elif video_info['split'] == 'validate':\n",
    "            cnt_valid['sports'] += 1\n",
    "        else:\n",
    "            raise ValueError\n",
    "    else:\n",
    "        pass\n",
    "\n",
    "print(\"cnt_train: {}\".format(cnt_train))\n",
    "print(\"cnt_valid: {}\".format(cnt_valid))"
   ]
  },
  {
   "cell_type": "code",
   "execution_count": 28,
   "metadata": {},
   "outputs": [],
   "source": [
    "video_id2category = {}\n",
    "for video_info in data['videos']:\n",
    "    video_id2category[video_info['video_id']] = video_info['category']"
   ]
  },
  {
   "cell_type": "code",
   "execution_count": 29,
   "metadata": {},
   "outputs": [
    {
     "name": "stdout",
     "output_type": "stream",
     "text": [
      "{'A1': 'drink', 'A2': 'eat', 'A3': 'brush', 'A4': 'brush', 'A5': 'drop', 'A6': 'pick', 'A7': 'throw', 'A8': 'sit', 'A9': 'stand', 'A10': 'clap', 'A11': 'read', 'A12': 'write', 'A13': 'tear', 'A14': 'jacket', 'A15': 'jacket', 'A16': 'shoe', 'A17': 'shoe', 'A18': 'glasses', 'A19': 'glasses', 'A20': 'hat', 'A21': 'hat', 'A22': 'cheer', 'A23': 'wave', 'A24': 'kick', 'A25': 'reach', 'A26': 'hop', 'A27': 'jump', 'A28': 'phone', 'A29': 'play', 'A30': 'type', 'A31': 'point', 'A32': 'selfie', 'A33': 'time', 'A34': 'rub', 'A35': 'nod', 'A36': 'shake', 'A37': 'wipe', 'A38': 'salute', 'A39': 'palm', 'A40': 'cross', 'A41': 'cough', 'A42': 'stagger', 'A43': 'fall', 'A44': 'headache', 'A45': 'chest', 'A46': 'back', 'A47': 'neck', 'A48': 'vomit', 'A49': 'fan self', 'A50': 'punch', 'A51': 'kick', 'A52': 'push', 'A53': 'pat', 'A54': 'finger', 'A55': 'hug', 'A56': 'give', 'A57': 'pocket', 'A58': 'shake', 'A59': 'walk', 'A60': 'walk', 'A61': 'slap'}\n"
     ]
    }
   ],
   "source": [
    "action_set = {}\n",
    "with open('../data/actions_short.txt', 'rt') as f:\n",
    "    for line in f:\n",
    "        if len(line) > 2:\n",
    "            line_data = line.strip().split(': ')\n",
    "            action_set[line_data[0]] = line_data[1]\n",
    "f.close()\n",
    "print(action_set)"
   ]
  },
  {
   "cell_type": "code",
   "execution_count": 38,
   "metadata": {},
   "outputs": [
    {
     "name": "stdout",
     "output_type": "stream",
     "text": [
      "{'A1': 0, 'A2': 0, 'A3': 0, 'A4': 0, 'A5': 0, 'A6': 0, 'A7': 0, 'A8': 0, 'A9': 0, 'A10': 0, 'A11': 0, 'A12': 0, 'A13': 0, 'A14': 0, 'A15': 0, 'A16': 0, 'A17': 0, 'A18': 0, 'A19': 0, 'A20': 0, 'A21': 0, 'A22': 0, 'A23': 0, 'A24': 0, 'A25': 0, 'A26': 0, 'A27': 0, 'A28': 0, 'A29': 0, 'A30': 0, 'A31': 0, 'A32': 0, 'A33': 0, 'A34': 0, 'A35': 0, 'A36': 0, 'A37': 0, 'A38': 0, 'A39': 0, 'A40': 0, 'A41': 0, 'A42': 0, 'A43': 0, 'A44': 0, 'A45': 0, 'A46': 0, 'A47': 0, 'A48': 0, 'A49': 0, 'A50': 0, 'A51': 0, 'A52': 0, 'A53': 0, 'A54': 0, 'A55': 0, 'A56': 0, 'A57': 0, 'A58': 0, 'A59': 0, 'A60': 0, 'A61': 0}\n",
      "{'A1': 0, 'A2': 0, 'A3': 0, 'A4': 0, 'A5': 0, 'A6': 0, 'A7': 0, 'A8': 0, 'A9': 0, 'A10': 0, 'A11': 0, 'A12': 0, 'A13': 0, 'A14': 0, 'A15': 0, 'A16': 0, 'A17': 0, 'A18': 0, 'A19': 0, 'A20': 0, 'A21': 0, 'A22': 0, 'A23': 0, 'A24': 0, 'A25': 0, 'A26': 0, 'A27': 0, 'A28': 0, 'A29': 0, 'A30': 0, 'A31': 0, 'A32': 0, 'A33': 0, 'A34': 0, 'A35': 0, 'A36': 0, 'A37': 0, 'A38': 0, 'A39': 0, 'A40': 0, 'A41': 0, 'A42': 0, 'A43': 0, 'A44': 0, 'A45': 0, 'A46': 0, 'A47': 0, 'A48': 0, 'A49': 0, 'A50': 0, 'A51': 0, 'A52': 0, 'A53': 0, 'A54': 0, 'A55': 0, 'A56': 0, 'A57': 0, 'A58': 0, 'A59': 0, 'A60': 0, 'A61': 0}\n",
      "{'A1': 0, 'A2': 0, 'A3': 0, 'A4': 0, 'A5': 0, 'A6': 0, 'A7': 0, 'A8': 0, 'A9': 0, 'A10': 0, 'A11': 0, 'A12': 0, 'A13': 0, 'A14': 0, 'A15': 0, 'A16': 0, 'A17': 0, 'A18': 0, 'A19': 0, 'A20': 0, 'A21': 0, 'A22': 0, 'A23': 0, 'A24': 0, 'A25': 0, 'A26': 0, 'A27': 0, 'A28': 0, 'A29': 0, 'A30': 0, 'A31': 0, 'A32': 0, 'A33': 0, 'A34': 0, 'A35': 0, 'A36': 0, 'A37': 0, 'A38': 0, 'A39': 0, 'A40': 0, 'A41': 0, 'A42': 0, 'A43': 0, 'A44': 0, 'A45': 0, 'A46': 0, 'A47': 0, 'A48': 0, 'A49': 0, 'A50': 0, 'A51': 0, 'A52': 0, 'A53': 0, 'A54': 0, 'A55': 0, 'A56': 0, 'A57': 0, 'A58': 0, 'A59': 0, 'A60': 0, 'A61': 0}\n",
      "{'A1': 0, 'A2': 0, 'A3': 0, 'A4': 0, 'A5': 0, 'A6': 0, 'A7': 0, 'A8': 0, 'A9': 0, 'A10': 0, 'A11': 0, 'A12': 0, 'A13': 0, 'A14': 0, 'A15': 0, 'A16': 0, 'A17': 0, 'A18': 0, 'A19': 0, 'A20': 0, 'A21': 0, 'A22': 0, 'A23': 0, 'A24': 0, 'A25': 0, 'A26': 0, 'A27': 0, 'A28': 0, 'A29': 0, 'A30': 0, 'A31': 0, 'A32': 0, 'A33': 0, 'A34': 0, 'A35': 0, 'A36': 0, 'A37': 0, 'A38': 0, 'A39': 0, 'A40': 0, 'A41': 0, 'A42': 0, 'A43': 0, 'A44': 0, 'A45': 0, 'A46': 0, 'A47': 0, 'A48': 0, 'A49': 0, 'A50': 0, 'A51': 0, 'A52': 0, 'A53': 0, 'A54': 0, 'A55': 0, 'A56': 0, 'A57': 0, 'A58': 0, 'A59': 0, 'A60': 0, 'A61': 0}\n"
     ]
    }
   ],
   "source": [
    "cnt_actions = {}\n",
    "cnt_category_1_actions = {}\n",
    "cnt_category_2_actions = {}\n",
    "cnt_category_3_actions = {}\n",
    "for key in action_set.keys():\n",
    "    cnt_actions[key] = 0\n",
    "    cnt_category_1_actions[key] = 0\n",
    "    cnt_category_2_actions[key] = 0\n",
    "    cnt_category_3_actions[key] = 0\n",
    "print(cnt_actions)\n",
    "print(cnt_category_1_actions)\n",
    "print(cnt_category_2_actions)\n",
    "print(cnt_category_3_actions)"
   ]
  },
  {
   "cell_type": "code",
   "execution_count": 40,
   "metadata": {},
   "outputs": [
    {
     "name": "stdout",
     "output_type": "stream",
     "text": [
      "{'A1': 1206, 'A2': 8644, 'A3': 528, 'A4': 528, 'A5': 358, 'A6': 482, 'A7': 1078, 'A8': 7814, 'A9': 4880, 'A10': 364, 'A11': 2118, 'A12': 94, 'A13': 48, 'A14': 844, 'A15': 844, 'A16': 244, 'A17': 244, 'A18': 1278, 'A19': 1278, 'A20': 6584, 'A21': 6584, 'A22': 766, 'A23': 614, 'A24': 424, 'A25': 190, 'A26': 1504, 'A27': 2298, 'A28': 3146, 'A29': 34712, 'A30': 632, 'A31': 1020, 'A32': 328, 'A33': 1044, 'A34': 678, 'A35': 48, 'A36': 148, 'A37': 62, 'A38': 2, 'A39': 82, 'A40': 1156, 'A41': 14, 'A42': 4, 'A43': 1542, 'A44': 0, 'A45': 268, 'A46': 3940, 'A47': 300, 'A48': 26, 'A49': 0, 'A50': 198, 'A51': 424, 'A52': 416, 'A53': 1204, 'A54': 350, 'A55': 816, 'A56': 1580, 'A57': 54, 'A58': 148, 'A59': 7298, 'A60': 7298, 'A61': 62}\n",
      "{0: 3483, 1: 1455, 2: 3796, 3: 9009, 4: 2562, 5: 1725, 6: 1862, 7: 5885, 8: 1794, 9: 3560, 10: 2739, 11: 2384, 12: 2182, 13: 4727, 14: 2456, 15: 973, 16: 3312, 17: 1331, 18: 3997, 19: 1187}\n",
      "{'A1': 19, 'A2': 92, 'A3': 0, 'A4': 0, 'A5': 0, 'A6': 2, 'A7': 1, 'A8': 114, 'A9': 55, 'A10': 23, 'A11': 9, 'A12': 0, 'A13': 0, 'A14': 16, 'A15': 16, 'A16': 2, 'A17': 2, 'A18': 40, 'A19': 40, 'A20': 67, 'A21': 67, 'A22': 18, 'A23': 0, 'A24': 3, 'A25': 1, 'A26': 39, 'A27': 6, 'A28': 96, 'A29': 375, 'A30': 2, 'A31': 9, 'A32': 116, 'A33': 25, 'A34': 1, 'A35': 0, 'A36': 2, 'A37': 0, 'A38': 0, 'A39': 0, 'A40': 4, 'A41': 0, 'A42': 0, 'A43': 1, 'A44': 0, 'A45': 0, 'A46': 50, 'A47': 1, 'A48': 0, 'A49': 0, 'A50': 0, 'A51': 3, 'A52': 1, 'A53': 8, 'A54': 5, 'A55': 23, 'A56': 13, 'A57': 0, 'A58': 2, 'A59': 43, 'A60': 43, 'A61': 0}\n",
      "{'A1': 1, 'A2': 124, 'A3': 8, 'A4': 8, 'A5': 3, 'A6': 24, 'A7': 21, 'A8': 50, 'A9': 30, 'A10': 0, 'A11': 25, 'A12': 1, 'A13': 0, 'A14': 0, 'A15': 0, 'A16': 0, 'A17': 0, 'A18': 0, 'A19': 0, 'A20': 107, 'A21': 107, 'A22': 9, 'A23': 1, 'A24': 2, 'A25': 4, 'A26': 5, 'A27': 71, 'A28': 57, 'A29': 2569, 'A30': 14, 'A31': 28, 'A32': 1, 'A33': 21, 'A34': 0, 'A35': 1, 'A36': 3, 'A37': 0, 'A38': 0, 'A39': 1, 'A40': 12, 'A41': 0, 'A42': 0, 'A43': 46, 'A44': 0, 'A45': 8, 'A46': 34, 'A47': 0, 'A48': 0, 'A49': 0, 'A50': 8, 'A51': 2, 'A52': 3, 'A53': 61, 'A54': 2, 'A55': 9, 'A56': 23, 'A57': 0, 'A58': 3, 'A59': 144, 'A60': 144, 'A61': 1}\n",
      "{'A1': 15, 'A2': 175, 'A3': 0, 'A4': 0, 'A5': 19, 'A6': 14, 'A7': 219, 'A8': 205, 'A9': 234, 'A10': 30, 'A11': 103, 'A12': 0, 'A13': 1, 'A14': 15, 'A15': 15, 'A16': 15, 'A17': 15, 'A18': 14, 'A19': 14, 'A20': 221, 'A21': 221, 'A22': 133, 'A23': 132, 'A24': 90, 'A25': 12, 'A26': 66, 'A27': 281, 'A28': 87, 'A29': 5101, 'A30': 11, 'A31': 123, 'A32': 2, 'A33': 44, 'A34': 14, 'A35': 0, 'A36': 10, 'A37': 1, 'A38': 0, 'A39': 4, 'A40': 126, 'A41': 0, 'A42': 0, 'A43': 151, 'A44': 0, 'A45': 10, 'A46': 293, 'A47': 5, 'A48': 0, 'A49': 0, 'A50': 48, 'A51': 90, 'A52': 24, 'A53': 45, 'A54': 3, 'A55': 70, 'A56': 56, 'A57': 0, 'A58': 10, 'A59': 208, 'A60': 208, 'A61': 6}\n"
     ]
    }
   ],
   "source": [
    "positive_videos = set()\n",
    "cnt_category = {0:0,1:0,2:0,3:0,4:0,5:0,6:0,7:0,8:0,9:0,10:0,11:0,12:0,13:0,14:0,15:0,16:0,17:0,18:0,19:0}\n",
    "for sentence_info in data['sentences']:\n",
    "    for key in action_set.keys():\n",
    "        if action_set[key] in sentence_info['caption']:\n",
    "            cnt_actions[key] += 1\n",
    "            positive_videos.add(sentence_info['video_id'])\n",
    "            cnt_category[video_id2category[sentence_info['video_id']]] += 1\n",
    "            if video_id2category[sentence_info['video_id']] == 1:\n",
    "                cnt_category_1_actions[key] += 1\n",
    "            elif video_id2category[sentence_info['video_id']] == 2:\n",
    "                cnt_category_2_actions[key] += 1\n",
    "            elif video_id2category[sentence_info['video_id']] == 3:\n",
    "                cnt_category_3_actions[key] += 1\n",
    "            else:\n",
    "                pass\n",
    "\n",
    "print(cnt_actions)\n",
    "print(cnt_category)\n",
    "print(cnt_category_1_actions)\n",
    "print(cnt_category_2_actions)\n",
    "print(cnt_category_3_actions)"
   ]
  },
  {
   "cell_type": "code",
   "execution_count": 41,
   "metadata": {},
   "outputs": [
    {
     "name": "stdout",
     "output_type": "stream",
     "text": [
      "6515\n"
     ]
    }
   ],
   "source": [
    "print(len(positive_videos))"
   ]
  },
  {
   "cell_type": "code",
   "execution_count": 42,
   "metadata": {},
   "outputs": [
    {
     "name": "stdout",
     "output_type": "stream",
     "text": [
      "{'A1': 35, 'A2': 391, 'A3': 8, 'A4': 8, 'A5': 22, 'A6': 40, 'A7': 241, 'A8': 369, 'A9': 319, 'A10': 53, 'A11': 137, 'A12': 1, 'A13': 1, 'A14': 31, 'A15': 31, 'A16': 17, 'A17': 17, 'A18': 54, 'A19': 54, 'A20': 395, 'A21': 395, 'A22': 160, 'A23': 133, 'A24': 95, 'A25': 17, 'A26': 110, 'A27': 358, 'A28': 240, 'A29': 8045, 'A30': 27, 'A31': 160, 'A32': 119, 'A33': 90, 'A34': 15, 'A35': 1, 'A36': 15, 'A37': 1, 'A38': 0, 'A39': 5, 'A40': 142, 'A41': 0, 'A42': 0, 'A43': 198, 'A44': 0, 'A45': 18, 'A46': 377, 'A47': 6, 'A48': 0, 'A49': 0, 'A50': 56, 'A51': 95, 'A52': 28, 'A53': 114, 'A54': 10, 'A55': 102, 'A56': 92, 'A57': 0, 'A58': 15, 'A59': 395, 'A60': 395, 'A61': 7}\n"
     ]
    }
   ],
   "source": [
    "cnt_category_123_actions = {}\n",
    "for key in action_set.keys():\n",
    "    cnt_category_123_actions[key] = cnt_category_1_actions[key] + cnt_category_2_actions[key] + cnt_category_3_actions[key]\n",
    "print(cnt_category_123_actions)"
   ]
  },
  {
   "cell_type": "code",
   "execution_count": null,
   "metadata": {},
   "outputs": [],
   "source": []
  }
 ],
 "metadata": {
  "kernelspec": {
   "display_name": "Python 3",
   "name": "python3"
  },
  "language_info": {
   "codemirror_mode": {
    "name": "ipython",
    "version": 3
   },
   "file_extension": ".py",
   "mimetype": "text/x-python",
   "name": "python",
   "nbconvert_exporter": "python",
   "pygments_lexer": "ipython3",
   "version": "3.8.5"
  },
  "orig_nbformat": 2
 },
 "nbformat": 4,
 "nbformat_minor": 2
}